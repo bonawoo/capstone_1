{
 "cells": [
  {
   "cell_type": "code",
   "execution_count": 33,
   "id": "4731e47c",
   "metadata": {},
   "outputs": [],
   "source": [
    "import pandas as pd\n",
    "import numpy as np\n",
    "import matplotlib.pyplot as plt   \n",
    "%matplotlib inline"
   ]
  },
  {
   "cell_type": "code",
   "execution_count": 34,
   "id": "693daffb",
   "metadata": {},
   "outputs": [],
   "source": [
    "#실험 엑셀 자료 가져오기\n",
    "\n",
    "df_cir_1 = pd.read_csv('C:/Users/User/Desktop/중앙대학교/4학년 2학기/캡스톤디자인(2)/DataAnalysis/data/data/test1(원형).csv',\n",
    "                usecols=(0,2))\n",
    "\n",
    "df_cir_2 = pd.read_csv('C:/Users/User/Desktop/중앙대학교/4학년 2학기/캡스톤디자인(2)/DataAnalysis/data/data/test2(원형).csv',\n",
    "                usecols=(0,2))"
   ]
  },
  {
   "cell_type": "code",
   "execution_count": 35,
   "id": "ca193f4e",
   "metadata": {},
   "outputs": [
    {
     "data": {
      "text/html": [
       "<div>\n",
       "<style scoped>\n",
       "    .dataframe tbody tr th:only-of-type {\n",
       "        vertical-align: middle;\n",
       "    }\n",
       "\n",
       "    .dataframe tbody tr th {\n",
       "        vertical-align: top;\n",
       "    }\n",
       "\n",
       "    .dataframe thead th {\n",
       "        text-align: right;\n",
       "    }\n",
       "</style>\n",
       "<table border=\"1\" class=\"dataframe\">\n",
       "  <thead>\n",
       "    <tr style=\"text-align: right;\">\n",
       "      <th></th>\n",
       "      <th>GAS_IN_A</th>\n",
       "      <th>GAS_OUT_A</th>\n",
       "    </tr>\n",
       "  </thead>\n",
       "  <tbody>\n",
       "    <tr>\n",
       "      <th>0</th>\n",
       "      <td>652.0</td>\n",
       "      <td>518.0</td>\n",
       "    </tr>\n",
       "    <tr>\n",
       "      <th>1</th>\n",
       "      <td>652.0</td>\n",
       "      <td>518.0</td>\n",
       "    </tr>\n",
       "    <tr>\n",
       "      <th>2</th>\n",
       "      <td>651.0</td>\n",
       "      <td>518.0</td>\n",
       "    </tr>\n",
       "    <tr>\n",
       "      <th>3</th>\n",
       "      <td>651.0</td>\n",
       "      <td>518.0</td>\n",
       "    </tr>\n",
       "    <tr>\n",
       "      <th>4</th>\n",
       "      <td>651.0</td>\n",
       "      <td>518.0</td>\n",
       "    </tr>\n",
       "  </tbody>\n",
       "</table>\n",
       "</div>"
      ],
      "text/plain": [
       "   GAS_IN_A  GAS_OUT_A\n",
       "0     652.0      518.0\n",
       "1     652.0      518.0\n",
       "2     651.0      518.0\n",
       "3     651.0      518.0\n",
       "4     651.0      518.0"
      ]
     },
     "execution_count": 35,
     "metadata": {},
     "output_type": "execute_result"
    }
   ],
   "source": [
    "df_cir_1.head()"
   ]
  },
  {
   "cell_type": "code",
   "execution_count": 81,
   "id": "cbe74cea",
   "metadata": {},
   "outputs": [],
   "source": [
    "#처리 효율 계산\n",
    "cir_1_eff = []\n",
    "cir_2_eff = []\n",
    "#10개 합처리 후 효율 계산\n",
    "for i in range(len(df_cir_1.index)):\n",
    "    if(np.isnan(sum(df_cir_1[\"GAS_IN_A\"][i:i+10]))): break\n",
    "    else : cir_1_eff.append(100*(sum(df_cir_1[\"GAS_IN_A\"][i:i+10]) - sum(df_cir_1[\"GAS_OUT_A\"][i:i+10])) / sum(df_cir_1[\"GAS_IN_A\"][i:i+10]))\n",
    "        \n",
    "for i in range(len(df_cir_2.index)):\n",
    "    if(np.isnan(sum(df_cir_2[\"GAS_IN_A\"][i:i+10]))): break\n",
    "    else : cir_2_eff.append(100*(sum(df_cir_2[\"GAS_IN_A\"][i:i+10]) - sum(df_cir_2[\"GAS_OUT_A\"][i:i+10])) / sum(df_cir_2[\"GAS_IN_A\"][i:i+10]))\n"
   ]
  },
  {
   "cell_type": "code",
   "execution_count": 82,
   "id": "947adc40",
   "metadata": {},
   "outputs": [
    {
     "data": {
      "image/png": "[encoded data removed]",
      "text/plain": [
       "<Figure size 432x288 with 1 Axes>"
      ]
     },
     "metadata": {
      "needs_background": "light"
     },
     "output_type": "display_data"
    },
    {
     "data": {
      "image/png": "[encoded data removed]",
      "text/plain": [
       "<Figure size 432x288 with 1 Axes>"
      ]
     },
     "metadata": {
      "needs_background": "light"
     },
     "output_type": "display_data"
    }
   ],
   "source": [
    "df_cir_1_eff = pd.DataFrame(cir_1_eff)\n",
    "df_cir_1_eff.plot(color = \"#ff0000\")\n",
    "plt.subplot(211)\n",
    "plt.plot(df_cir_1_eff, marker = '*', color = 'r')\n",
    "plt.show()\n",
    "\n",
    "df_cir_2_eff = pd.DataFrame(cir_2_eff)\n",
    "df_cir_2_eff.plot(color = \"#ff0000\")\n",
    "plt.subplot(212)\n",
    "plt.plot(df_cir_2_eff, marker = '*', color = 'b')\n",
    "plt.show()"
   ]
  },
  {
   "cell_type": "code",
   "execution_count": 83,
   "id": "cd7012fc",
   "metadata": {},
   "outputs": [],
   "source": [
    "df_eff = pd.DataFrame(zip(cir_1_eff, cir_2_eff))\n",
    "df_eff.columns=['Exp 1', 'Exp 2']"
   ]
  },
  {
   "cell_type": "code",
   "execution_count": 84,
   "id": "fba22859",
   "metadata": {},
   "outputs": [
    {
     "data": {
      "text/plain": [
       "<AxesSubplot:xlabel='Iter', ylabel='Efficiency(%)'>"
      ]
     },
     "execution_count": 84,
     "metadata": {},
     "output_type": "execute_result"
    },
    {
     "data": {
      "image/png": "[encoded data removed]",
      "text/plain": [
       "<Figure size 720x432 with 1 Axes>"
      ]
     },
     "metadata": {
      "needs_background": "light"
     },
     "output_type": "display_data"
    }
   ],
   "source": [
    "df_eff.plot(y=[0, 1], ylim=(0, 100), figsize=(10, 6), grid=True, xlabel=\"Iter\", ylabel=\"Efficiency(%)\", marker='o', ms=3)\n"
   ]
  },
  {
   "cell_type": "code",
   "execution_count": null,
   "id": "2ec3d66c",
   "metadata": {},
   "outputs": [],
   "source": []
  }
 ],
 "metadata": {
  "kernelspec": {
   "display_name": "Python 3",
   "language": "python",
   "name": "python3"
  },
  "language_info": {
   "codemirror_mode": {
    "name": "ipython",
    "version": 3
   },
   "file_extension": ".py",
   "mimetype": "text/x-python",
   "name": "python",
   "nbconvert_exporter": "python",
   "pygments_lexer": "ipython3",
   "version": "3.8.8"
  }
 },
 "nbformat": 4,
 "nbformat_minor": 5
}
